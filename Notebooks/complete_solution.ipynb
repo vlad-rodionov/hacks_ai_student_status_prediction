{
 "nbformat": 4,
 "nbformat_minor": 0,
 "metadata": {
  "colab": {
   "provenance": [],
   "collapsed_sections": []
  },
  "kernelspec": {
   "name": "python3",
   "display_name": "Python 3"
  },
  "language_info": {
   "name": "python"
  },
  "accelerator": "GPU",
  "gpuClass": "standard"
 },
 "cells": [
  {
   "cell_type": "code",
   "source": [
    "import pandas as pd\n",
    "import numpy as np\n",
    "import warnings\n",
    "warnings.filterwarnings(\"ignore\")\n",
    "\n",
    "from sklearn.model_selection import train_test_split\n",
    "from catboost import CatBoostClassifier, Pool\n",
    "from sklearn.metrics import f1_score\n",
    "\n",
    "import matplotlib.pyplot as plt\n",
    "\n",
    "TRAIN_PATH = 'PATH'\n",
    "TEST_PATH = 'PATH'\n",
    "SUBMISSION_PATH = 'PATH'\n",
    "\n",
    "SEED = 12345\n",
    "\n",
    "\n",
    "def load_data(train_path,\n",
    "              test_path,\n",
    "              submission_path):\n",
    "  \n",
    "\n",
    "    train = pd.read_csv(train_path)\n",
    "    test = pd.read_csv(test_path)\n",
    "    submission = pd.read_csv(submission_path)\n",
    "\n",
    "    return train, test, submission\n",
    "\n",
    "data_train, data_test, submission = load_data(TRAIN_PATH,\n",
    "                                              TEST_PATH,\n",
    "                                              SUBMISSION_PATH)"
   ],
   "metadata": {
    "id": "N1L_ZEt3eeKw",
    "pycharm": {
     "name": "#%%\n"
    }
   },
   "execution_count": null,
   "outputs": []
  },
  {
   "cell_type": "code",
   "source": [
    "data_train.isna().mean()"
   ],
   "metadata": {
    "id": "XAr-wT5YezFp",
    "colab": {
     "base_uri": "https://localhost:8080/"
    },
    "outputId": "cdac5d6f-c9d6-4a06-807b-f5669603513c",
    "pycharm": {
     "name": "#%%\n"
    }
   },
   "execution_count": null,
   "outputs": [
    {
     "output_type": "execute_result",
     "data": {
      "text/plain": [
       "ID                  0.000000\n",
       "Код_группы          0.000000\n",
       "Год_Поступления     0.000000\n",
       "Пол                 0.000515\n",
       "Основания           0.000000\n",
       "Изучаемый_Язык      0.060807\n",
       "Дата_Рождения       0.000000\n",
       "Уч_Заведение        0.090769\n",
       "Где_Находится_УЗ    0.101664\n",
       "Год_Окончания_УЗ    0.095701\n",
       "Пособие             0.074205\n",
       "Страна_ПП           0.025545\n",
       "Регион_ПП           0.045495\n",
       "Город_ПП            0.032612\n",
       "Общежитие           0.006331\n",
       "Наличие_Матери      0.000000\n",
       "Наличие_Отца        0.000000\n",
       "Страна_Родители     0.033716\n",
       "Опекунство          0.000000\n",
       "Село                0.006331\n",
       "Иностранец          0.022821\n",
       "КодФакультета       0.000000\n",
       "СрБаллАттестата     0.000000\n",
       "Статус              0.000000\n",
       "dtype: float64"
      ]
     },
     "metadata": {},
     "execution_count": 4
    }
   ]
  },
  {
   "cell_type": "code",
   "source": [
    "data_test.isna().mean()"
   ],
   "metadata": {
    "id": "9WvD5_tle_PM",
    "colab": {
     "base_uri": "https://localhost:8080/"
    },
    "outputId": "066a94b4-23b4-40ce-9f80-3d48f94d46cd",
    "pycharm": {
     "name": "#%%\n"
    }
   },
   "execution_count": null,
   "outputs": [
    {
     "output_type": "execute_result",
     "data": {
      "text/plain": [
       "ID                  0.000000\n",
       "Код_группы          0.000000\n",
       "Год_Поступления     0.000000\n",
       "Пол                 0.000448\n",
       "Основания           0.000000\n",
       "Изучаемый_Язык      0.059184\n",
       "Дата_Рождения       0.000000\n",
       "Уч_Заведение        0.086385\n",
       "Где_Находится_УЗ    0.098640\n",
       "Год_Окончания_УЗ    0.092213\n",
       "Пособие             0.072336\n",
       "Страна_ПП           0.023913\n",
       "Регион_ПП           0.043342\n",
       "Город_ПП            0.031983\n",
       "Общежитие           0.005231\n",
       "Наличие_Матери      0.000000\n",
       "Наличие_Отца        0.000000\n",
       "Страна_Родители     0.029592\n",
       "Опекунство          0.000000\n",
       "Село                0.005530\n",
       "Иностранец          0.019429\n",
       "КодФакультета       0.000000\n",
       "СрБаллАттестата     0.000000\n",
       "dtype: float64"
      ]
     },
     "metadata": {},
     "execution_count": 5
    }
   ]
  },
  {
   "cell_type": "code",
   "source": [
    "def clean_data(data_train,\n",
    "               data_test):\n",
    "  \n",
    "  #Год_Поступления\n",
    "  delete_admission_index = data_train[data_train['Год_Поступления'] > 2020].index # удаление выброса 2212 год поступления\n",
    "  data_train = data_train.drop(labels=delete_admission_index, axis=0)\n",
    "  data_train['Год_Поступления'] = data_train['Год_Поступления'].astype(np.int16)\n",
    "  data_test['Год_Поступления'] = data_test['Год_Поступления'].astype(np.int16)\n",
    "\n",
    "  #Пол\n",
    "  filled_value = data_train['Пол'].value_counts().nlargest(1).index[0]\n",
    "  data_train['Пол'] = data_train['Пол'].fillna(filled_value)\n",
    "  data_test['Пол'] = data_test['Пол'].fillna(filled_value)\n",
    "  sex_map = {'Жен': 1.0,\n",
    "             'Муж' : 0.0,\n",
    "             'муж' : 0.0,\n",
    "             'жен' : 1.0}\n",
    "  data_train['Пол'] = data_train['Пол'].map(sex_map)\n",
    "  data_test['Пол'] = data_test['Пол'].map(sex_map)\n",
    "  data_train['Пол'] = data_train['Пол'].astype(np.int8)\n",
    "  data_test['Пол'] = data_test['Пол'].astype(np.int8)\n",
    "\n",
    "  #Основания\n",
    "  reason_map = {'СН': 1,\n",
    "                'ЦН' : 2,\n",
    "                'БН' : 3,\n",
    "                'ОО' : 4,\n",
    "                'ДН' : 5,\n",
    "                'ЛН' : 4}\n",
    "  data_train['Основания'] = data_train['Основания'].map(reason_map)\n",
    "  data_test['Основания'] = data_test['Основания'].map(reason_map)\n",
    "  data_train['Основания'] = data_train['Основания'].astype(np.int8) \n",
    "  data_test['Основания'] = data_test['Основания'].astype(np.int8)\n",
    "\n",
    "  #Изучаемый_Язык\n",
    "  filled_value = data_train['Изучаемый_Язык'].value_counts().nlargest(1).index[0]\n",
    "  data_train['Изучаемый_Язык'] = data_train['Изучаемый_Язык'].fillna(filled_value)\n",
    "  data_test['Изучаемый_Язык'] = data_test['Изучаемый_Язык'].fillna(filled_value)\n",
    "  language_map = {'Английский язык' : 1,\n",
    "                 'Немецкий язык' : 2,\n",
    "                 'Французский язык' : 3,\n",
    "                 'Англиийский' : 1,\n",
    "                 'Иностранный язык (Английский)' : 1,\n",
    "                 'Русский язык' : 4,\n",
    "                 'Английский, немецкий языки' : 1,\n",
    "                 'Иностранный язык (Немецкий)' : 2}\n",
    "\n",
    "  data_train['Изучаемый_Язык'] = data_train['Изучаемый_Язык'].map(language_map)\n",
    "  data_test['Изучаемый_Язык'] = data_test['Изучаемый_Язык'].map(language_map)\n",
    "  data_train['Изучаемый_Язык'] = data_train['Изучаемый_Язык'].astype(np.int8)\n",
    "  data_test['Изучаемый_Язык'] = data_test['Изучаемый_Язык'].astype(np.int8)\n",
    "\n",
    "  #Дата_Рождения\n",
    "  data_train['Дата_Рождения'] = pd.to_datetime(data_train['Дата_Рождения']).apply(lambda date: date.year)\n",
    "  data_test['Дата_Рождения'] = pd.to_datetime(data_test['Дата_Рождения']).apply(lambda date: date.year)\n",
    "  data_train['Дата_Рождения'] = data_train['Дата_Рождения'].astype(np.int16)\n",
    "  data_test['Дата_Рождения'] = data_test['Дата_Рождения'].astype(np.int16)\n",
    "\n",
    "  delete_birth_index = data_train[data_train['Дата_Рождения'] > 2004].index\n",
    "  data_train = data_train.drop(labels=delete_birth_index, axis=0)\n",
    "\n",
    "  #Уч_Заведение\n",
    "  filled_value = data_train['Уч_Заведение'].value_counts().nlargest(1).index[0]\n",
    "  data_train['Уч_Заведение'] = data_train['Уч_Заведение'].fillna(filled_value)\n",
    "  data_test['Уч_Заведение'] = data_test['Уч_Заведение'].fillna(filled_value)\n",
    "  data_train['Уч_Заведение'] = data_train['Уч_Заведение'].astype('object')\n",
    "  data_test['Уч_Заведение'] = data_test['Уч_Заведение'].astype('object')\n",
    "\n",
    "  #Где_Находится_УЗ\n",
    "  filled_value = data_train['Где_Находится_УЗ'].value_counts().nlargest(1).index[0]\n",
    "  data_train['Где_Находится_УЗ'] = data_train['Где_Находится_УЗ'].fillna(filled_value)\n",
    "  data_test['Где_Находится_УЗ'] = data_test['Где_Находится_УЗ'].fillna(filled_value)\n",
    "  data_train['Где_Находится_УЗ'] = data_train['Где_Находится_УЗ'].astype('object')\n",
    "  data_test['Где_Находится_УЗ'] = data_test['Где_Находится_УЗ'].astype('object')\n",
    "\n",
    "  #Год_Окончания_УЗ (какой эвристикой заполнить данное поле?)\n",
    "  filled_value = data_train['Год_Окончания_УЗ'].value_counts().nlargest(1).index[0]\n",
    "  data_train['Год_Окончания_УЗ'] = data_train['Год_Окончания_УЗ'].fillna(filled_value)\n",
    "  data_test['Год_Окончания_УЗ'] = data_test['Год_Окончания_УЗ'].fillna(filled_value)\n",
    "  data_train['Год_Окончания_УЗ'] = data_train['Год_Окончания_УЗ'].astype(np.int16)\n",
    "  data_test['Год_Окончания_УЗ'] = data_test['Год_Окончания_УЗ'].astype(np.int16)\n",
    "\n",
    "  #Страна_ПП\n",
    "  filled_value = data_train['Страна_ПП'].value_counts().nlargest(1).index[0]\n",
    "  data_train['Страна_ПП'] = data_train['Страна_ПП'].fillna(filled_value)\n",
    "  data_test['Страна_ПП'] = data_test['Страна_ПП'].fillna(filled_value)\n",
    "  data_train['Страна_ПП'] = data_train['Страна_ПП'].astype('object')\n",
    "  data_test['Страна_ПП'] = data_test['Страна_ПП'].astype('object')\n",
    "\n",
    "  #Регион_ПП\n",
    "  filled_value = data_train['Регион_ПП'].value_counts().nlargest(1).index[0]\n",
    "  data_train['Регион_ПП'] = data_train['Регион_ПП'].fillna(filled_value)\n",
    "  data_test['Регион_ПП'] = data_test['Регион_ПП'].fillna(filled_value)\n",
    "  data_train['Регион_ПП'] = data_train['Регион_ПП'].astype('object')\n",
    "  data_test['Регион_ПП'] = data_test['Регион_ПП'].astype('object')\n",
    "\n",
    "  #Город_ПП\n",
    "  filled_value = data_train['Город_ПП'].value_counts().nlargest(1).index[0]\n",
    "  data_train['Город_ПП'] = data_train['Город_ПП'].fillna(filled_value)\n",
    "  data_test['Город_ПП'] = data_test['Город_ПП'].fillna(filled_value)\n",
    "  data_train['Город_ПП'] = data_train['Город_ПП'].astype('object')\n",
    "  data_test['Город_ПП'] = data_test['Город_ПП'].astype('object')\n",
    "\n",
    "  #Общежитие\n",
    "  filled_value = data_train['Общежитие'].value_counts().nlargest(1).index[0]\n",
    "  data_train['Общежитие'] = data_train['Общежитие'].fillna(filled_value)\n",
    "  data_test['Общежитие'] = data_test['Общежитие'].fillna(filled_value)\n",
    "  data_train['Общежитие'] = data_train['Общежитие'].astype(np.int16)\n",
    "  data_test['Общежитие'] = data_test['Общежитие'].astype(np.int16)\n",
    "\n",
    "  #Наличие_Матери\n",
    "  data_train['Наличие_Матери'] = data_train['Наличие_Матери'].astype(np.int16)\n",
    "  data_test['Наличие_Матери'] = data_test['Наличие_Матери'].astype(np.int16)\n",
    "\n",
    "  #Наличие_Отца\n",
    "  data_train['Наличие_Отца'] = data_train['Наличие_Отца'].astype(np.int16)\n",
    "  data_test['Наличие_Отца'] = data_test['Наличие_Отца'].astype(np.int16)\n",
    "\n",
    "  #Страна_Родители\n",
    "  filled_value = data_train['Страна_Родители'].value_counts().nlargest(1).index[0]\n",
    "  data_train['Страна_Родители'] = data_train['Страна_Родители'].fillna(filled_value)\n",
    "  data_test['Страна_Родители'] = data_test['Страна_Родители'].fillna(filled_value)\n",
    "  data_train['Страна_Родители'] = data_train['Страна_Родители'].astype('object')\n",
    "  data_test['Страна_Родители'] = data_test['Страна_Родители'].astype('object')\n",
    "\n",
    "  #Село\n",
    "  filled_value = data_train['Село'].value_counts().nlargest(1).index[0]\n",
    "  data_train['Село'] = data_train['Село'].fillna(filled_value)\n",
    "  data_test['Село'] = data_test['Село'].fillna(filled_value)\n",
    "  data_train['Село'] = data_train['Село'].astype(np.int16)\n",
    "  data_test['Село'] = data_test['Село'].astype(np.int16)\n",
    "\n",
    "  #Иностранец\n",
    "  filled_value = data_train['Иностранец'].value_counts().nlargest(1).index[0]\n",
    "  data_train['Иностранец'] = data_train['Иностранец'].fillna(filled_value)\n",
    "  data_test['Иностранец'] = data_test['Иностранец'].fillna(filled_value)\n",
    "  data_train['Иностранец'] = data_train['Иностранец'].astype(np.int16)\n",
    "  data_test['Иностранец'] = data_test['Иностранец'].astype(np.int16)\n",
    "\n",
    "  #КодФакультета\n",
    "  data_train['КодФакультета'] = data_train['КодФакультета'].astype(np.int16)\n",
    "  data_test['КодФакультета'] = data_test['КодФакультета'].astype(np.int16)\n",
    "\n",
    "  #СрБаллАттестата\n",
    "  data_train['СрБаллАттестата'] = data_train['СрБаллАттестата'].astype(np.int16)\n",
    "  data_test['СрБаллАттестата'] = data_test['СрБаллАттестата'].astype(np.int16)\n",
    "\n",
    "  delete_gpa_index = data_train[data_train['СрБаллАттестата'] > 100].index\n",
    "  data_train = data_train.drop(labels=delete_gpa_index, axis=0)\n",
    "\n",
    "  features, target = data_train.drop(columns=['ID', 'Пособие', 'Опекунство', 'Статус']), data_train['Статус']\n",
    "  test = data_test.drop(columns=['ID', 'Пособие', 'Опекунство'])\n",
    "\n",
    "  return features, target, test"
   ],
   "metadata": {
    "id": "X1eNP2XreucN",
    "pycharm": {
     "name": "#%%\n"
    }
   },
   "execution_count": null,
   "outputs": []
  },
  {
   "cell_type": "code",
   "source": [
    "features, target, test = clean_data(data_train, data_test)"
   ],
   "metadata": {
    "id": "Fgmk_mT5iXoa",
    "pycharm": {
     "name": "#%%\n"
    }
   },
   "execution_count": null,
   "outputs": []
  },
  {
   "cell_type": "code",
   "source": [
    "features.shape"
   ],
   "metadata": {
    "colab": {
     "base_uri": "https://localhost:8080/"
    },
    "id": "5KFN9eSEljAQ",
    "outputId": "d11a6d8a-049c-430c-89c4-7e04f60c365e",
    "pycharm": {
     "name": "#%%\n"
    }
   },
   "execution_count": null,
   "outputs": [
    {
     "output_type": "execute_result",
     "data": {
      "text/plain": [
       "(13526, 20)"
      ]
     },
     "metadata": {},
     "execution_count": 6
    }
   ]
  },
  {
   "cell_type": "code",
   "source": [
    "def create_feature(train,\n",
    "                   test):\n",
    "  \n",
    "  #Длина наименования учебного заведения\n",
    "  train['Длина_УЗ'] = train['Уч_Заведение'].apply(lambda val: len(val))\n",
    "  test['Длина_УЗ'] = test['Уч_Заведение'].apply(lambda val: len(val))\n",
    "\n",
    "  #Длина группы\n",
    "  def _return_digits(n, i):\n",
    "    j = 0\n",
    "    while j < i:\n",
    "\n",
    "      cur, d = divmod(n, 10)\n",
    "      n = cur\n",
    "      j += 1\n",
    "\n",
    "    return n\n",
    "\n",
    "  train['Один_знак'] = train['Код_группы'].apply(_return_digits, i=4)\n",
    "  train['Два_знака'] = train['Код_группы'].apply(_return_digits, i=3)\n",
    "  train['Три_знака'] = train['Код_группы'].apply(_return_digits, i=2)\n",
    "  train['Четыре_знака'] = train['Код_группы'].apply(_return_digits, i=1)\n",
    "\n",
    "  test['Один_знак'] = test['Код_группы'].apply(_return_digits, i=4)\n",
    "  test['Два_знака'] = test['Код_группы'].apply(_return_digits, i=3)\n",
    "  test['Три_знака'] = test['Код_группы'].apply(_return_digits, i=2)\n",
    "  test['Четыре_знака'] = test['Код_группы'].apply(_return_digits, i=1)\n",
    "\n",
    "  #Приведение Уч_Заведение к единому типу\n",
    "  def _return_edu_institution(value):\n",
    "\n",
    "    value = value.lower()\n",
    "\n",
    "    if 'университет' in value:\n",
    "      return 1\n",
    "    if 'школа' in value:\n",
    "      return 2\n",
    "    if 'лицей' in value:\n",
    "      return 3\n",
    "    if 'колледж' in value:\n",
    "      return 4\n",
    "    if 'институт' in value:\n",
    "      return 5\n",
    "    if 'академия' in value:\n",
    "      return 6\n",
    "    if 'гимназия' in value:\n",
    "      return 7\n",
    "    if 'техникум' in value:\n",
    "      return 8\n",
    "    if 'сош' in value:\n",
    "      return 2\n",
    "\n",
    "    return 9\n",
    "\n",
    "  train['Тип_заведения'] = train['Уч_Заведение'].apply(_return_edu_institution)\n",
    "  test['Тип_заведения'] = test['Уч_Заведение'].apply(_return_edu_institution)\n",
    "  train['Тип_заведения'] = train['Тип_заведения'].astype(np.int8)\n",
    "  test['Тип_заведения'] = test['Тип_заведения'].astype(np.int8)\n",
    "\n",
    "  #Признаки на дате рождения\n",
    "  train['Поступление_рождение'] = train['Год_Поступления'] - train['Дата_Рождения']\n",
    "  test['Поступление_рождение'] = test['Год_Поступления'] - test['Дата_Рождения']\n",
    "  train['Выпуск_рождение'] = train['Год_Поступления'] - train['Дата_Рождения']\n",
    "  test['Выпуск_рождение'] = test['Год_Поступления'] - test['Дата_Рождения']\n",
    "  train['Выпуск_поступление'] = train['Год_Окончания_УЗ'] - train['Год_Поступления']\n",
    "  test['Выпуск_поступление'] = test['Год_Окончания_УЗ'] - test['Год_Поступления']\n",
    "\n",
    "  #СрБалАттестата (перевод в шкалу от 5 до 100 с грубым коэф.17, но тут можно эксперементировать)\n",
    "  train['СрБаллАттестата'] = train['СрБаллАттестата'].apply(lambda score: score if score > 5 else score*17)\n",
    "  test['СрБаллАттестата'] = test['СрБаллАттестата'].apply(lambda score: score if score > 5 else score*17)\n",
    "\n",
    "  #Информация о семье\n",
    "  train['Полная_семья'] = train['Наличие_Матери'] & train['Наличие_Отца']\n",
    "  test['Полная_семья'] = test['Наличие_Матери'] & test['Наличие_Отца']\n",
    "  train['Полная_семья'] = train['Полная_семья'].astype(np.int8)\n",
    "  test['Полная_семья'] = test['Полная_семья'].astype(np.int8)\n",
    "\n",
    "  train['Сироты'] = ((train['Наличие_Отца']==0) & (train['Наличие_Матери']==0)) * 1\n",
    "  test['Сироты'] = ((test['Наличие_Отца']==0) & (test['Наличие_Матери']==0)) * 1\n",
    "  train['Сироты'] = train['Сироты'].astype(np.int8)\n",
    "  test['Сироты'] = test['Сироты'].astype(np.int8)\n",
    "\n",
    "  #Информация об аттестатах\n",
    "  def _return_gpa(value):\n",
    "    \n",
    "    if value < 30:\n",
    "      return 1 #Очень низкий бал\n",
    "    if value < 50:\n",
    "      return 2 #Низкий бал\n",
    "    if value <70:\n",
    "      return 3 #Норм\n",
    "    if value < 80:\n",
    "      return 4 #Высокий\n",
    "    if value < 90:\n",
    "      return 5 #Очень высокий    \n",
    "    return 6 # Очень-очень высокий\n",
    "    \n",
    "  train['Группа_бал'] = train['СрБаллАттестата'].apply(_return_gpa)\n",
    "  test['Группа_бал'] = test['СрБаллАттестата'].apply(_return_gpa)\n",
    "  train['Группа_бал'] = train['Группа_бал'].astype(np.int8)\n",
    "  test['Группа_бал'] = test['Группа_бал'].astype(np.int8)\n",
    "\n",
    "  #Где_Находится_УЗ\n",
    "  def _return_place_institution(value):\n",
    "\n",
    "    value = value.lower()\n",
    "\n",
    "    if 'барнаул' in value:\n",
    "      return 1\n",
    "    if 'бийск' in value:\n",
    "      return 2\n",
    "    if 'москва' in value:\n",
    "      return 3\n",
    "    if 'санкт-перетбург' in value:\n",
    "      return 4\n",
    "    if 'казахстан' in value:\n",
    "      return 5\n",
    "    if 'алтай' in value:\n",
    "      return 6\n",
    "\n",
    "    return 9  \n",
    "\n",
    "  train['Место_заведения'] = train['Где_Находится_УЗ'].apply(_return_place_institution)\n",
    "  test['Место_заведения'] = test['Где_Находится_УЗ'].apply(_return_place_institution)\n",
    "  train['Место_заведения'] = train['Место_заведения'].astype(np.int8)\n",
    "  test['Место_заведения'] = test['Место_заведения'].astype(np.int8)\n",
    "\n",
    "  #Возрастная_группа\n",
    "  def _return_age_group(value):\n",
    "\n",
    "    if value < 1960:\n",
    "      return 1\n",
    "    if value < 1970:\n",
    "      return 2\n",
    "    if value < 1980:\n",
    "      return 3\n",
    "    if value < 1990:\n",
    "      return 4\n",
    "    if value < 2000:\n",
    "      return 5\n",
    "\n",
    "    return 6\n",
    "\n",
    "  train['Возрастная_группа'] = train['Дата_Рождения'].apply(_return_age_group)\n",
    "  test['Возрастная_группа'] = test['Дата_Рождения'].apply(_return_age_group)\n",
    "  train['Возрастная_группа'] = train['Возрастная_группа'].astype(np.int8)\n",
    "  test['Возрастная_группа'] = test['Возрастная_группа'].astype(np.int8)\n",
    "\n",
    "  train = train.drop(columns=['Уч_Заведение', 'Где_Находится_УЗ'])\n",
    "  test = test.drop(columns=['Уч_Заведение', 'Где_Находится_УЗ'])\n",
    "\n",
    "\n",
    "  return train, test"
   ],
   "metadata": {
    "id": "x0-imieVkJy_",
    "pycharm": {
     "name": "#%%\n"
    }
   },
   "execution_count": null,
   "outputs": []
  },
  {
   "cell_type": "code",
   "source": [
    "train, test = create_feature(features, test)"
   ],
   "metadata": {
    "id": "yMF9hY4TkNZ_",
    "pycharm": {
     "name": "#%%\n"
    }
   },
   "execution_count": null,
   "outputs": []
  },
  {
   "cell_type": "code",
   "source": [
    "train.sample(1)"
   ],
   "metadata": {
    "colab": {
     "base_uri": "https://localhost:8080/",
     "height": 190
    },
    "id": "9jtopL1q7enH",
    "outputId": "588ca384-af11-4150-e3b5-1406a85606bd",
    "pycharm": {
     "name": "#%%\n"
    }
   },
   "execution_count": null,
   "outputs": [
    {
     "output_type": "execute_result",
     "data": {
      "text/plain": [
       "      Код_группы  Год_Поступления  Пол  Основания  Изучаемый_Язык  \\\n",
       "3893       22172             2017    1          1               1   \n",
       "\n",
       "      Дата_Рождения  Год_Окончания_УЗ Страна_ПП       Регион_ПП   Город_ПП  \\\n",
       "3893           1999              2017    Россия  Алтайский край  Барнаул г   \n",
       "\n",
       "      ...  Четыре_знака  Тип_заведения  Поступление_рождение Выпуск_рождение  \\\n",
       "3893  ...          2217              9                    18              18   \n",
       "\n",
       "      Выпуск_поступление  Полная_семья  Сироты  Группа_бал  Место_заведения  \\\n",
       "3893                   0             1       0           3                5   \n",
       "\n",
       "      Возрастная_группа  \n",
       "3893                  5  \n",
       "\n",
       "[1 rows x 32 columns]"
      ],
      "text/html": [
       "\n",
       "  <div id=\"df-95af4c76-539c-45b8-ae0a-96f0253ed475\">\n",
       "    <div class=\"colab-df-container\">\n",
       "      <div>\n",
       "<style scoped>\n",
       "    .dataframe tbody tr th:only-of-type {\n",
       "        vertical-align: middle;\n",
       "    }\n",
       "\n",
       "    .dataframe tbody tr th {\n",
       "        vertical-align: top;\n",
       "    }\n",
       "\n",
       "    .dataframe thead th {\n",
       "        text-align: right;\n",
       "    }\n",
       "</style>\n",
       "<table border=\"1\" class=\"dataframe\">\n",
       "  <thead>\n",
       "    <tr style=\"text-align: right;\">\n",
       "      <th></th>\n",
       "      <th>Код_группы</th>\n",
       "      <th>Год_Поступления</th>\n",
       "      <th>Пол</th>\n",
       "      <th>Основания</th>\n",
       "      <th>Изучаемый_Язык</th>\n",
       "      <th>Дата_Рождения</th>\n",
       "      <th>Год_Окончания_УЗ</th>\n",
       "      <th>Страна_ПП</th>\n",
       "      <th>Регион_ПП</th>\n",
       "      <th>Город_ПП</th>\n",
       "      <th>...</th>\n",
       "      <th>Четыре_знака</th>\n",
       "      <th>Тип_заведения</th>\n",
       "      <th>Поступление_рождение</th>\n",
       "      <th>Выпуск_рождение</th>\n",
       "      <th>Выпуск_поступление</th>\n",
       "      <th>Полная_семья</th>\n",
       "      <th>Сироты</th>\n",
       "      <th>Группа_бал</th>\n",
       "      <th>Место_заведения</th>\n",
       "      <th>Возрастная_группа</th>\n",
       "    </tr>\n",
       "  </thead>\n",
       "  <tbody>\n",
       "    <tr>\n",
       "      <th>3893</th>\n",
       "      <td>22172</td>\n",
       "      <td>2017</td>\n",
       "      <td>1</td>\n",
       "      <td>1</td>\n",
       "      <td>1</td>\n",
       "      <td>1999</td>\n",
       "      <td>2017</td>\n",
       "      <td>Россия</td>\n",
       "      <td>Алтайский край</td>\n",
       "      <td>Барнаул г</td>\n",
       "      <td>...</td>\n",
       "      <td>2217</td>\n",
       "      <td>9</td>\n",
       "      <td>18</td>\n",
       "      <td>18</td>\n",
       "      <td>0</td>\n",
       "      <td>1</td>\n",
       "      <td>0</td>\n",
       "      <td>3</td>\n",
       "      <td>5</td>\n",
       "      <td>5</td>\n",
       "    </tr>\n",
       "  </tbody>\n",
       "</table>\n",
       "<p>1 rows × 32 columns</p>\n",
       "</div>\n",
       "      <button class=\"colab-df-convert\" onclick=\"convertToInteractive('df-95af4c76-539c-45b8-ae0a-96f0253ed475')\"\n",
       "              title=\"Convert this dataframe to an interactive table.\"\n",
       "              style=\"display:none;\">\n",
       "        \n",
       "  <svg xmlns=\"http://www.w3.org/2000/svg\" height=\"24px\"viewBox=\"0 0 24 24\"\n",
       "       width=\"24px\">\n",
       "    <path d=\"M0 0h24v24H0V0z\" fill=\"none\"/>\n",
       "    <path d=\"M18.56 5.44l.94 2.06.94-2.06 2.06-.94-2.06-.94-.94-2.06-.94 2.06-2.06.94zm-11 1L8.5 8.5l.94-2.06 2.06-.94-2.06-.94L8.5 2.5l-.94 2.06-2.06.94zm10 10l.94 2.06.94-2.06 2.06-.94-2.06-.94-.94-2.06-.94 2.06-2.06.94z\"/><path d=\"M17.41 7.96l-1.37-1.37c-.4-.4-.92-.59-1.43-.59-.52 0-1.04.2-1.43.59L10.3 9.45l-7.72 7.72c-.78.78-.78 2.05 0 2.83L4 21.41c.39.39.9.59 1.41.59.51 0 1.02-.2 1.41-.59l7.78-7.78 2.81-2.81c.8-.78.8-2.07 0-2.86zM5.41 20L4 18.59l7.72-7.72 1.47 1.35L5.41 20z\"/>\n",
       "  </svg>\n",
       "      </button>\n",
       "      \n",
       "  <style>\n",
       "    .colab-df-container {\n",
       "      display:flex;\n",
       "      flex-wrap:wrap;\n",
       "      gap: 12px;\n",
       "    }\n",
       "\n",
       "    .colab-df-convert {\n",
       "      background-color: #E8F0FE;\n",
       "      border: none;\n",
       "      border-radius: 50%;\n",
       "      cursor: pointer;\n",
       "      display: none;\n",
       "      fill: #1967D2;\n",
       "      height: 32px;\n",
       "      padding: 0 0 0 0;\n",
       "      width: 32px;\n",
       "    }\n",
       "\n",
       "    .colab-df-convert:hover {\n",
       "      background-color: #E2EBFA;\n",
       "      box-shadow: 0px 1px 2px rgba(60, 64, 67, 0.3), 0px 1px 3px 1px rgba(60, 64, 67, 0.15);\n",
       "      fill: #174EA6;\n",
       "    }\n",
       "\n",
       "    [theme=dark] .colab-df-convert {\n",
       "      background-color: #3B4455;\n",
       "      fill: #D2E3FC;\n",
       "    }\n",
       "\n",
       "    [theme=dark] .colab-df-convert:hover {\n",
       "      background-color: #434B5C;\n",
       "      box-shadow: 0px 1px 3px 1px rgba(0, 0, 0, 0.15);\n",
       "      filter: drop-shadow(0px 1px 2px rgba(0, 0, 0, 0.3));\n",
       "      fill: #FFFFFF;\n",
       "    }\n",
       "  </style>\n",
       "\n",
       "      <script>\n",
       "        const buttonEl =\n",
       "          document.querySelector('#df-95af4c76-539c-45b8-ae0a-96f0253ed475 button.colab-df-convert');\n",
       "        buttonEl.style.display =\n",
       "          google.colab.kernel.accessAllowed ? 'block' : 'none';\n",
       "\n",
       "        async function convertToInteractive(key) {\n",
       "          const element = document.querySelector('#df-95af4c76-539c-45b8-ae0a-96f0253ed475');\n",
       "          const dataTable =\n",
       "            await google.colab.kernel.invokeFunction('convertToInteractive',\n",
       "                                                     [key], {});\n",
       "          if (!dataTable) return;\n",
       "\n",
       "          const docLinkHtml = 'Like what you see? Visit the ' +\n",
       "            '<a target=\"_blank\" href=https://colab.research.google.com/notebooks/data_table.ipynb>data table notebook</a>'\n",
       "            + ' to learn more about interactive tables.';\n",
       "          element.innerHTML = '';\n",
       "          dataTable['output_type'] = 'display_data';\n",
       "          await google.colab.output.renderOutput(dataTable, element);\n",
       "          const docLink = document.createElement('div');\n",
       "          docLink.innerHTML = docLinkHtml;\n",
       "          element.appendChild(docLink);\n",
       "        }\n",
       "      </script>\n",
       "    </div>\n",
       "  </div>\n",
       "  "
      ]
     },
     "metadata": {},
     "execution_count": 9
    }
   ]
  },
  {
   "cell_type": "code",
   "source": [
    "INT_FEATURES = [\n",
    "    'Год_Поступления', \n",
    "    'Дата_Рождения', \n",
    "    'Год_Окончания_УЗ', \n",
    "    'СрБаллАттестата', \n",
    "    'Поступление_рождение', \n",
    "    'Выпуск_рождение', \n",
    "    'Выпуск_поступление',\n",
    "    'Длина_УЗ']\n",
    "\n",
    "CAT_FEATURES = [\n",
    " 'Код_группы',\n",
    " 'Один_знак',\n",
    " 'Два_знака',\n",
    " 'Три_знака',\n",
    " 'Четыре_знака',\n",
    " 'Пол',\n",
    " 'Основания',\n",
    " 'Изучаемый_Язык',\n",
    " 'Страна_ПП',\n",
    " 'Общежитие',\n",
    " 'Наличие_Матери',\n",
    " 'Наличие_Отца',\n",
    " 'Страна_Родители',\n",
    " 'Село',\n",
    " 'Иностранец',\n",
    " 'КодФакультета',\n",
    " 'Сироты',\n",
    " 'Полная_семья',\n",
    " 'Группа_бал',\n",
    " 'Тип_заведения',\n",
    " 'Место_заведения',\n",
    " 'Регион_ПП',\n",
    " 'Город_ПП',\n",
    " 'Возрастная_группа']\n",
    "\n",
    "len(INT_FEATURES) + len(CAT_FEATURES) == test.shape[1]"
   ],
   "metadata": {
    "colab": {
     "base_uri": "https://localhost:8080/"
    },
    "id": "ANZOz5XMsF8Y",
    "outputId": "681142e1-2995-46c3-fd6b-9c7093509cf9",
    "pycharm": {
     "name": "#%%\n"
    }
   },
   "execution_count": null,
   "outputs": [
    {
     "output_type": "execute_result",
     "data": {
      "text/plain": [
       "True"
      ]
     },
     "metadata": {},
     "execution_count": 10
    }
   ]
  },
  {
   "cell_type": "code",
   "source": [
    "train[CAT_FEATURES] = train[CAT_FEATURES].astype('category')\n",
    "test[CAT_FEATURES] = test[CAT_FEATURES].astype('category')"
   ],
   "metadata": {
    "id": "-kRvJKq8qL8l",
    "pycharm": {
     "name": "#%%\n"
    }
   },
   "execution_count": null,
   "outputs": []
  },
  {
   "cell_type": "markdown",
   "source": [
    "**Валидация и поиск гиперпараметров**"
   ],
   "metadata": {
    "id": "qOAk3kg3zkEE",
    "pycharm": {
     "name": "#%% md\n"
    }
   }
  },
  {
   "cell_type": "code",
   "source": [
    "X_train, X_valid, y_train, y_valid = train_test_split(train, target,test_size=0.15, stratify=target,\n",
    "                                                      shuffle=True, random_state=SEED)"
   ],
   "metadata": {
    "id": "vy21TcKhzjhy",
    "pycharm": {
     "name": "#%%\n"
    }
   },
   "execution_count": null,
   "outputs": []
  },
  {
   "cell_type": "code",
   "source": [
    "model = CatBoostClassifier(\n",
    "    loss_function='MultiClass', \n",
    "    verbose=False,\n",
    "    random_state=SEED,\n",
    "    cat_features=CAT_FEATURES,\n",
    "    auto_class_weights='Balanced',\n",
    "    eval_metric='TotalF1:average=Macro')\n",
    "\n",
    "model.fit(X_train, y_train)\n",
    "\n",
    "predict_valid = model.predict(X_valid)\n",
    "predict_train = model.predict(X_train)\n",
    "\n",
    "\n",
    "\n",
    "print('Метрика F1 на тренировочной выборке:', f1_score(y_train, predict_train, average='macro', zero_division = 0))\n",
    "print('Метрика F1 на валидационной выборке:', f1_score(y_valid, predict_valid, average='macro', zero_division = 0))"
   ],
   "metadata": {
    "colab": {
     "base_uri": "https://localhost:8080/"
    },
    "id": "prVadOj2y9TO",
    "outputId": "8916c24b-4bca-4416-f41f-5724c884ee6b",
    "pycharm": {
     "name": "#%%\n"
    }
   },
   "execution_count": null,
   "outputs": [
    {
     "output_type": "stream",
     "name": "stdout",
     "text": [
      "Метрика F1 на тренировочной выборке: 0.8899635310142022\n",
      "Метрика F1 на валидационной выборке: 0.7801253775620299\n"
     ]
    }
   ]
  },
  {
   "cell_type": "markdown",
   "source": [
    "**Optuna**"
   ],
   "metadata": {
    "id": "d-a4erJA62mm",
    "pycharm": {
     "name": "#%% md\n"
    }
   }
  },
  {
   "cell_type": "code",
   "source": [
    "import optuna"
   ],
   "metadata": {
    "id": "7f3Bz1yuy97_",
    "pycharm": {
     "name": "#%%\n"
    }
   },
   "execution_count": null,
   "outputs": []
  },
  {
   "cell_type": "code",
   "source": [
    "from ipywidgets.widgets.interaction import Parameter\n",
    "\n",
    "def objective(trial):\n",
    "    \n",
    "    train_x, valid_x, train_y, valid_y = train_test_split(train, target, stratify=target, test_size=0.3,\n",
    "                                                          shuffle=True, random_state=SEED)\n",
    "\n",
    "    param = {\n",
    "        \"objective\": trial.suggest_categorical(\"objective\", [\"MultiClass\"]),\n",
    "        \"colsample_bylevel\": trial.suggest_float(\"colsample_bylevel\", 0.01, 0.1),\n",
    "        \"depth\": trial.suggest_int(\"depth\", 1, 12),\n",
    "        \"boosting_type\": trial.suggest_categorical(\"boosting_type\", [\"Ordered\", \"Plain\"]),\n",
    "        \"bootstrap_type\": trial.suggest_categorical(\n",
    "            \"bootstrap_type\", [\"Bayesian\", \"Bernoulli\", \"MVS\"]\n",
    "        ),\n",
    "        'learning_rate': trial.suggest_categorical('learning_rate', [0.005, 0.02, 0.03, 0.05, 0.06, 0.08, 0.1]),\n",
    "        'n_estimators': trial.suggest_int('n_estimators', 800, 2000),\n",
    "        'max_bin': trial.suggest_int('max_bin', 200, 400),\n",
    "        'min_data_in_leaf': trial.suggest_int('min_data_in_leaf', 1, 300),\n",
    "        'l2_leaf_reg': trial.suggest_float('l2_leaf_reg', 0.0001, 1.0, log = True),\n",
    "        'random_seed': SEED,\n",
    "        'cat_features' : CAT_FEATURES,\n",
    "        'auto_class_weights' : 'Balanced',\n",
    "        'eval_metric' : 'TotalF1:average=Macro'\n",
    "\n",
    "    }\n",
    "\n",
    "    if param[\"bootstrap_type\"] == \"Bayesian\":\n",
    "        param[\"bagging_temperature\"] = trial.suggest_float(\"bagging_temperature\", 0, 10)\n",
    "    elif param[\"bootstrap_type\"] == \"Bernoulli\":\n",
    "        param[\"subsample\"] = trial.suggest_float(\"subsample\", 0.1, 1)\n",
    "\n",
    "    cb = CatBoostClassifier(**param)\n",
    "\n",
    "    cb.fit(train_x, train_y, eval_set=[(valid_x, valid_y)], verbose=False, early_stopping_rounds=250)\n",
    "\n",
    "    preds = cb.predict(valid_x)\n",
    "    pred_labels = np.rint(preds)\n",
    "    f_1 = f1_score(valid_y, pred_labels, average='macro', zero_division = 0)\n",
    "\n",
    "    return f_1"
   ],
   "metadata": {
    "id": "_Y-BK95Jy-Ak",
    "pycharm": {
     "name": "#%%\n"
    }
   },
   "execution_count": null,
   "outputs": []
  },
  {
   "cell_type": "code",
   "source": [
    "study = optuna.create_study(direction=\"maximize\")\n",
    "study.optimize(objective, n_trials=100)"
   ],
   "metadata": {
    "id": "rev2R3AH871M",
    "pycharm": {
     "name": "#%%\n"
    }
   },
   "execution_count": null,
   "outputs": []
  },
  {
   "cell_type": "code",
   "source": [
    "params = {'objective': 'MultiClass', \n",
    "          'colsample_bylevel': 0.09193906043107654, \n",
    "          'depth': 10, \n",
    "          'boosting_type': 'Ordered', \n",
    "          'bootstrap_type': 'MVS', \n",
    "          'learning_rate': 0.05, \n",
    "          'n_estimators': 1404, \n",
    "          'max_bin': 224, \n",
    "          'min_data_in_leaf': 128, \n",
    "          'l2_leaf_reg': 0.04355511389301864,\n",
    "          'verbose' : False,\n",
    "          'random_state' : SEED,\n",
    "          'cat_features' : CAT_FEATURES,\n",
    "          'auto_class_weights' : 'Balanced',\n",
    "          'eval_metric' : 'TotalF1:average=Macro'\n",
    "          }"
   ],
   "metadata": {
    "id": "ES5xKOzjZGca",
    "pycharm": {
     "name": "#%%\n"
    }
   },
   "execution_count": null,
   "outputs": []
  },
  {
   "cell_type": "markdown",
   "source": [
    "**Скор лучшей модели**"
   ],
   "metadata": {
    "id": "qkhA27FnQXCA",
    "pycharm": {
     "name": "#%% md\n"
    }
   }
  },
  {
   "cell_type": "code",
   "source": [
    "best_model = CatBoostClassifier(**params)\n",
    "\n",
    "best_model.fit(X_train, y_train)\n",
    "\n",
    "predict_valid = best_model.predict(X_valid)\n",
    "predict_train = best_model.predict(X_train)\n",
    "\n",
    "\n",
    "\n",
    "print('Метрика F1 на тренировочной выборке:', f1_score(y_train, predict_train, average='macro', zero_division = 0))\n",
    "print('Метрика F1 на валидационной выборке:', f1_score(y_valid, predict_valid, average='macro', zero_division = 0))"
   ],
   "metadata": {
    "colab": {
     "base_uri": "https://localhost:8080/"
    },
    "id": "VkdhqShq88Hw",
    "outputId": "5e6387ad-51fd-48fe-f359-63371e5785d6",
    "pycharm": {
     "name": "#%%\n"
    }
   },
   "execution_count": null,
   "outputs": [
    {
     "output_type": "stream",
     "name": "stdout",
     "text": [
      "Метрика F1 на тренировочной выборке: 0.9213296390742015\n",
      "Метрика F1 на валидационной выборке: 0.7951313649162715\n"
     ]
    }
   ]
  },
  {
   "cell_type": "markdown",
   "source": [
    "**Feature Importance, SHAP feature importance**"
   ],
   "metadata": {
    "id": "osyhOB9eQaHv",
    "pycharm": {
     "name": "#%% md\n"
    }
   }
  },
  {
   "cell_type": "code",
   "source": [
    "import shap\n",
    "from catboost import Pool"
   ],
   "metadata": {
    "id": "8mNpV3CkREXj",
    "pycharm": {
     "name": "#%%\n"
    }
   },
   "execution_count": null,
   "outputs": []
  },
  {
   "cell_type": "code",
   "source": [
    "feature_importance = best_model.feature_importances_\n",
    "sorted_idx = np.argsort(feature_importance)\n",
    "fig = plt.figure(figsize=(12, 6))\n",
    "plt.barh(range(len(sorted_idx)), feature_importance[sorted_idx], align='center')\n",
    "plt.yticks(range(len(sorted_idx)), np.array(X_train.columns)[sorted_idx])\n",
    "plt.title('Feature Importance')\n",
    "plt.savefig('feature_importance.png');"
   ],
   "metadata": {
    "colab": {
     "base_uri": "https://localhost:8080/",
     "height": 390
    },
    "id": "IrR19orOQS6F",
    "outputId": "5257a870-0940-40bd-9a08-f818f68c1f58",
    "pycharm": {
     "name": "#%%\n"
    }
   },
   "execution_count": null,
   "outputs": [
    {
     "output_type": "display_data",
     "data": {
      "text/plain": [
       "<Figure size 864x432 with 1 Axes>"
      ],
      "image/png": "[encoded data removed]"
     },
     "metadata": {
      "needs_background": "light"
     }
    }
   ]
  },
  {
   "cell_type": "code",
   "source": [
    "explainer = shap.TreeExplainer(best_model)\n",
    "\n",
    "X_train_subs, _, y_train_subs, __ = train_test_split(X_train, y_train,\n",
    "                                                     test_size=0.9,\n",
    "                                                     random_state=42)\n",
    "\n",
    "shap_values = explainer.shap_values(Pool(X_train_subs, y_train_subs, cat_features=CAT_FEATURES))"
   ],
   "metadata": {
    "id": "sgy-1pofQeVP",
    "pycharm": {
     "name": "#%%\n"
    }
   },
   "execution_count": null,
   "outputs": []
  },
  {
   "cell_type": "code",
   "source": [
    "plt.title(\"SHAP feature importance (train sample)\")\n",
    "\n",
    "shap.summary_plot(shap_values, X_train_subs)\n",
    "\n",
    "plt.savefig('SHAP_feature_importance.png');"
   ],
   "metadata": {
    "colab": {
     "base_uri": "https://localhost:8080/",
     "height": 710
    },
    "id": "7drgi2tfWHHo",
    "outputId": "0f430c86-1053-4951-cc43-13dd4fb46ae5",
    "pycharm": {
     "name": "#%%\n"
    }
   },
   "execution_count": null,
   "outputs": [
    {
     "output_type": "display_data",
     "data": {
      "text/plain": [
       "<Figure size 576x684 with 1 Axes>"
      ],
      "image/png": "[encoded data removed]"
     },
     "metadata": {
      "needs_background": "light"
     }
    },
    {
     "output_type": "display_data",
     "data": {
      "text/plain": [
       "<Figure size 432x288 with 0 Axes>"
      ]
     },
     "metadata": {}
    }
   ]
  },
  {
   "cell_type": "markdown",
   "source": [
    "**Сабмит**"
   ],
   "metadata": {
    "id": "bncE4sSdcTHx",
    "pycharm": {
     "name": "#%% md\n"
    }
   }
  },
  {
   "cell_type": "code",
   "source": [
    "cb = CatBoostClassifier(**params)\n",
    "cb.fit(train, target)\n",
    "predict_test = cb.predict(test)\n",
    "submission[\"Статус\"] = predict_test\n",
    "submission.head(4)"
   ],
   "metadata": {
    "colab": {
     "base_uri": "https://localhost:8080/",
     "height": 173
    },
    "id": "GbYBN_Dv88NY",
    "outputId": "fb870427-521e-4f56-b7be-263b2a26c3a6",
    "pycharm": {
     "name": "#%%\n"
    }
   },
   "execution_count": null,
   "outputs": [
    {
     "output_type": "execute_result",
     "data": {
      "text/plain": [
       "      ID  Статус\n",
       "0  64996       4\n",
       "1  71837       4\n",
       "2  86587      -1\n",
       "3  73673      -1"
      ],
      "text/html": [
       "\n",
       "  <div id=\"df-ed445234-1c94-4209-85e2-d8e32912d9a2\">\n",
       "    <div class=\"colab-df-container\">\n",
       "      <div>\n",
       "<style scoped>\n",
       "    .dataframe tbody tr th:only-of-type {\n",
       "        vertical-align: middle;\n",
       "    }\n",
       "\n",
       "    .dataframe tbody tr th {\n",
       "        vertical-align: top;\n",
       "    }\n",
       "\n",
       "    .dataframe thead th {\n",
       "        text-align: right;\n",
       "    }\n",
       "</style>\n",
       "<table border=\"1\" class=\"dataframe\">\n",
       "  <thead>\n",
       "    <tr style=\"text-align: right;\">\n",
       "      <th></th>\n",
       "      <th>ID</th>\n",
       "      <th>Статус</th>\n",
       "    </tr>\n",
       "  </thead>\n",
       "  <tbody>\n",
       "    <tr>\n",
       "      <th>0</th>\n",
       "      <td>64996</td>\n",
       "      <td>4</td>\n",
       "    </tr>\n",
       "    <tr>\n",
       "      <th>1</th>\n",
       "      <td>71837</td>\n",
       "      <td>4</td>\n",
       "    </tr>\n",
       "    <tr>\n",
       "      <th>2</th>\n",
       "      <td>86587</td>\n",
       "      <td>-1</td>\n",
       "    </tr>\n",
       "    <tr>\n",
       "      <th>3</th>\n",
       "      <td>73673</td>\n",
       "      <td>-1</td>\n",
       "    </tr>\n",
       "  </tbody>\n",
       "</table>\n",
       "</div>\n",
       "      <button class=\"colab-df-convert\" onclick=\"convertToInteractive('df-ed445234-1c94-4209-85e2-d8e32912d9a2')\"\n",
       "              title=\"Convert this dataframe to an interactive table.\"\n",
       "              style=\"display:none;\">\n",
       "        \n",
       "  <svg xmlns=\"http://www.w3.org/2000/svg\" height=\"24px\"viewBox=\"0 0 24 24\"\n",
       "       width=\"24px\">\n",
       "    <path d=\"M0 0h24v24H0V0z\" fill=\"none\"/>\n",
       "    <path d=\"M18.56 5.44l.94 2.06.94-2.06 2.06-.94-2.06-.94-.94-2.06-.94 2.06-2.06.94zm-11 1L8.5 8.5l.94-2.06 2.06-.94-2.06-.94L8.5 2.5l-.94 2.06-2.06.94zm10 10l.94 2.06.94-2.06 2.06-.94-2.06-.94-.94-2.06-.94 2.06-2.06.94z\"/><path d=\"M17.41 7.96l-1.37-1.37c-.4-.4-.92-.59-1.43-.59-.52 0-1.04.2-1.43.59L10.3 9.45l-7.72 7.72c-.78.78-.78 2.05 0 2.83L4 21.41c.39.39.9.59 1.41.59.51 0 1.02-.2 1.41-.59l7.78-7.78 2.81-2.81c.8-.78.8-2.07 0-2.86zM5.41 20L4 18.59l7.72-7.72 1.47 1.35L5.41 20z\"/>\n",
       "  </svg>\n",
       "      </button>\n",
       "      \n",
       "  <style>\n",
       "    .colab-df-container {\n",
       "      display:flex;\n",
       "      flex-wrap:wrap;\n",
       "      gap: 12px;\n",
       "    }\n",
       "\n",
       "    .colab-df-convert {\n",
       "      background-color: #E8F0FE;\n",
       "      border: none;\n",
       "      border-radius: 50%;\n",
       "      cursor: pointer;\n",
       "      display: none;\n",
       "      fill: #1967D2;\n",
       "      height: 32px;\n",
       "      padding: 0 0 0 0;\n",
       "      width: 32px;\n",
       "    }\n",
       "\n",
       "    .colab-df-convert:hover {\n",
       "      background-color: #E2EBFA;\n",
       "      box-shadow: 0px 1px 2px rgba(60, 64, 67, 0.3), 0px 1px 3px 1px rgba(60, 64, 67, 0.15);\n",
       "      fill: #174EA6;\n",
       "    }\n",
       "\n",
       "    [theme=dark] .colab-df-convert {\n",
       "      background-color: #3B4455;\n",
       "      fill: #D2E3FC;\n",
       "    }\n",
       "\n",
       "    [theme=dark] .colab-df-convert:hover {\n",
       "      background-color: #434B5C;\n",
       "      box-shadow: 0px 1px 3px 1px rgba(0, 0, 0, 0.15);\n",
       "      filter: drop-shadow(0px 1px 2px rgba(0, 0, 0, 0.3));\n",
       "      fill: #FFFFFF;\n",
       "    }\n",
       "  </style>\n",
       "\n",
       "      <script>\n",
       "        const buttonEl =\n",
       "          document.querySelector('#df-ed445234-1c94-4209-85e2-d8e32912d9a2 button.colab-df-convert');\n",
       "        buttonEl.style.display =\n",
       "          google.colab.kernel.accessAllowed ? 'block' : 'none';\n",
       "\n",
       "        async function convertToInteractive(key) {\n",
       "          const element = document.querySelector('#df-ed445234-1c94-4209-85e2-d8e32912d9a2');\n",
       "          const dataTable =\n",
       "            await google.colab.kernel.invokeFunction('convertToInteractive',\n",
       "                                                     [key], {});\n",
       "          if (!dataTable) return;\n",
       "\n",
       "          const docLinkHtml = 'Like what you see? Visit the ' +\n",
       "            '<a target=\"_blank\" href=https://colab.research.google.com/notebooks/data_table.ipynb>data table notebook</a>'\n",
       "            + ' to learn more about interactive tables.';\n",
       "          element.innerHTML = '';\n",
       "          dataTable['output_type'] = 'display_data';\n",
       "          await google.colab.output.renderOutput(dataTable, element);\n",
       "          const docLink = document.createElement('div');\n",
       "          docLink.innerHTML = docLinkHtml;\n",
       "          element.appendChild(docLink);\n",
       "        }\n",
       "      </script>\n",
       "    </div>\n",
       "  </div>\n",
       "  "
      ]
     },
     "metadata": {},
     "execution_count": 43
    }
   ]
  },
  {
   "cell_type": "code",
   "source": [
    "submission.to_csv(\"complete_solution.csv\", index=False)"
   ],
   "metadata": {
    "id": "gURBhDMO88Tg",
    "pycharm": {
     "name": "#%%\n"
    }
   },
   "execution_count": null,
   "outputs": []
  }
 ]
}